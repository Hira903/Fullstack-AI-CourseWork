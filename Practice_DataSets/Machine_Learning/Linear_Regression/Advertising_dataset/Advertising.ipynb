{
 "cells": [
  {
   "cell_type": "code",
   "execution_count": 1,
   "id": "049e71a3",
   "metadata": {},
   "outputs": [],
   "source": [
    "# importing Libraries\n",
    "import pandas as pd\n",
    "import matplotlib.pyplot as plt\n",
    "import seaborn as sns"
   ]
  },
  {
   "cell_type": "code",
   "execution_count": 12,
   "id": "0409541b",
   "metadata": {},
   "outputs": [
    {
     "name": "stdout",
     "output_type": "stream",
     "text": [
      "        TV  Radio  Newspaper  Sales\n",
      "0    230.1   37.8       69.2   22.1\n",
      "1     44.5   39.3       45.1   10.4\n",
      "2     17.2   45.9       69.3   12.0\n",
      "3    151.5   41.3       58.5   16.5\n",
      "4    180.8   10.8       58.4   17.9\n",
      "..     ...    ...        ...    ...\n",
      "195   38.2    3.7       13.8    7.6\n",
      "196   94.2    4.9        8.1   14.0\n",
      "197  177.0    9.3        6.4   14.8\n",
      "198  283.6   42.0       66.2   25.5\n",
      "199  232.1    8.6        8.7   18.4\n",
      "\n",
      "[200 rows x 4 columns]\n"
     ]
    }
   ],
   "source": [
    "# importing dataset usung pandas\n",
    "\n",
    "Advertisment = pd.read_csv(\"advertising.csv\")\n",
    "\n",
    "print(Advertisment)"
   ]
  },
  {
   "cell_type": "code",
   "execution_count": 21,
   "id": "f02b560e",
   "metadata": {},
   "outputs": [
    {
     "name": "stdout",
     "output_type": "stream",
     "text": [
      "Columns in dataset are: Index(['TV', 'Radio', 'Newspaper', 'Sales'], dtype='object')\n",
      "200\n",
      "200\n",
      "200\n",
      "200\n"
     ]
    }
   ],
   "source": [
    "# exploring dataset\n",
    "print(\"Columns in dataset are:\", Advertisment.columns)\n",
    "print(len(Advertisment[\"TV\"]))\n",
    "print(len(Advertisment[\"Radio\"]))\n",
    "print(len(Advertisment[\"Newspaper\"]))\n",
    "print(len(Advertisment[\"Sales\"]))"
   ]
  },
  {
   "cell_type": "code",
   "execution_count": 24,
   "id": "04aceb62",
   "metadata": {},
   "outputs": [
    {
     "name": "stdout",
     "output_type": "stream",
     "text": [
      "(200, 3)\n",
      "(200,)\n"
     ]
    }
   ],
   "source": [
    "# Checking for outliners\n",
    "\n",
    "feature_cols = Advertisment[[\"TV\", \"Radio\", \"Newspaper\"]]\n",
    "x = feature_cols\n",
    "y = Advertisment.Sales\n",
    "\n",
    "print(x.shape)\n",
    "print(y.shape)\n",
    "\n",
    "\n"
   ]
  },
  {
   "cell_type": "code",
   "execution_count": null,
   "id": "e0e68806",
   "metadata": {},
   "outputs": [],
   "source": [
    "for cols in x:\n",
    "    sns.regplot(x=cols, y=y, data=Advertisment).set(title=f'Regression plot of {x} and {y}');\n",
    "    plt.show()\n",
    "\n",
    "for cols in x:\n",
    "    sns.lineplot(x=cols, y=y, data=Advertisment).set(title=f'Line plot of {x} and {y}');\n",
    "    plt.show()"
   ]
  },
  {
   "cell_type": "code",
   "execution_count": null,
   "id": "0f73c97e",
   "metadata": {},
   "outputs": [
    {
     "name": "stdout",
     "output_type": "stream",
     "text": [
      "---- Linear Regression -----\n",
      "Mean absolute error: 1.28\n",
      "Mean squared error: 2.59\n",
      "R2_Score: 0.904366217355296\n",
      "Root Mean Square error: 1.61\n",
      "\n",
      "---- Ridge Regression -----\n",
      "Mean absolute error: 1.28\n",
      "Mean squared error: 2.59\n",
      "R2_Score: 0.9043693590586593\n",
      "Root Mean Square error: 1.61\n",
      "\n",
      "---- Lasso Regression -----\n",
      "Mean absolute error: 1.28\n",
      "Mean squared error: 2.59\n",
      "R2_Score: 0.9044554202995876\n",
      "Root Mean Square error: 1.61\n",
      "\n"
     ]
    }
   ],
   "source": [
    "# fitting linear regression model\n",
    "from sklearn.model_selection import train_test_split\n",
    "x_train, x_test, y_train, y_test = train_test_split(x, y, test_size= 0.2, random_state=25)\n",
    "\n",
    "from sklearn.linear_model import LinearRegression\n",
    "from sklearn.linear_model import Ridge\n",
    "from sklearn.linear_model import Lasso\n",
    "from sklearn.metrics import mean_absolute_error, mean_squared_error, r2_score, root_mean_squared_error\n",
    "\n",
    "Models = {\"Linear Regression\": LinearRegression(),\n",
    "          \"Ridge Regression\": Ridge(),\n",
    "          \"Lasso Regression\": Lasso()}\n",
    "\n",
    "for names, model in Models.items():\n",
    "    model.fit(x_train, y_train)\n",
    "    y_pred = model.predict(x_test)\n",
    "\n",
    "\n",
    "    mae = mean_absolute_error(y_test, y_pred)\n",
    "    mse = mean_squared_error(y_test, y_pred)\n",
    "    r_score = r2_score(y_test, y_pred)\n",
    "    rmse = root_mean_squared_error(y_test, y_pred)\n",
    "\n",
    "    print (f\"---- {names} -----\")\n",
    "    print(f'Mean absolute error: {mae:.2f}')\n",
    "    print(f'Mean squared error: {mse:.2f}')\n",
    "    print(f'R2_Score: {r_score}')\n",
    "    print(f'Root Mean Square error: {rmse:.2f}\\n')"
   ]
  }
 ],
 "metadata": {
  "kernelspec": {
   "display_name": "Python 3",
   "language": "python",
   "name": "python3"
  },
  "language_info": {
   "codemirror_mode": {
    "name": "ipython",
    "version": 3
   },
   "file_extension": ".py",
   "mimetype": "text/x-python",
   "name": "python",
   "nbconvert_exporter": "python",
   "pygments_lexer": "ipython3",
   "version": "3.12.10"
  }
 },
 "nbformat": 4,
 "nbformat_minor": 5
}
